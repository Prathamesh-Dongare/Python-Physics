{
 "cells": [
  {
   "cell_type": "code",
   "execution_count": 14,
   "metadata": {},
   "outputs": [],
   "source": [
    "import matplotlib.pyplot as plt\n",
    "import matplotlib.patches as patches\n",
    "import numpy as np"
   ]
  },
  {
   "cell_type": "markdown",
   "metadata": {},
   "source": [
    "### Parameters"
   ]
  },
  {
   "cell_type": "code",
   "execution_count": 15,
   "metadata": {},
   "outputs": [],
   "source": [
    "points = 10000000 #controls the accuracy\n",
    "x_max = 10\n",
    "x_min = 0\n",
    "circle_center = (5, 5)\n",
    "circle_radius = 2\n"
   ]
  },
  {
   "cell_type": "markdown",
   "metadata": {},
   "source": [
    "### Generate random points"
   ]
  },
  {
   "cell_type": "code",
   "execution_count": 16,
   "metadata": {},
   "outputs": [],
   "source": [
    "p = np.random.uniform(x_min, x_max, size=(2, points))\n",
    "x_points, y_points = p"
   ]
  },
  {
   "cell_type": "markdown",
   "metadata": {},
   "source": [
    "### Finding no. of points inside the circle"
   ]
  },
  {
   "cell_type": "code",
   "execution_count": 17,
   "metadata": {},
   "outputs": [
    {
     "data": {
      "text/plain": [
       "1257972"
      ]
     },
     "execution_count": 17,
     "metadata": {},
     "output_type": "execute_result"
    }
   ],
   "source": [
    "n = []\n",
    "for i in range(len(x_points)):\n",
    "    if ((x_points[i] - circle_center[0])**2 + (y_points[i] - circle_center[1])**2 < circle_radius**2):\n",
    "        n.append(1)\n",
    "\n",
    "num_inside = len(n)\n",
    "num_inside"
   ]
  },
  {
   "cell_type": "markdown",
   "metadata": {},
   "source": [
    "### Pie calculation"
   ]
  },
  {
   "cell_type": "code",
   "execution_count": 18,
   "metadata": {},
   "outputs": [
    {
     "name": "stdout",
     "output_type": "stream",
     "text": [
      "Number of points inside the circle: 1257972\n",
      "Total Number of points: 10000000\n",
      "valut of pie is: 3.14493\n"
     ]
    }
   ],
   "source": [
    "print(f\"Number of points inside the circle: {num_inside}\")\n",
    "print(f\"Total Number of points: {points}\")\n",
    "pie = (num_inside/points)*(x_max**2/circle_radius**2)\n",
    "print(f\"valut of pie is: {pie}\")"
   ]
  },
  {
   "cell_type": "markdown",
   "metadata": {},
   "source": [
    "### Plotting"
   ]
  },
  {
   "cell_type": "code",
   "execution_count": 19,
   "metadata": {},
   "outputs": [
    {
     "data": {
      "image/png": "[encoded data removed]",
      "text/plain": [
       "<Figure size 640x480 with 1 Axes>"
      ]
     },
     "metadata": {},
     "output_type": "display_data"
    }
   ],
   "source": [
    "fig, ax = plt.subplots()\n",
    "ax.plot(x_points, y_points, 'o', ms=2, zorder=-1)\n",
    "\n",
    "circle = patches.Circle(circle_center, circle_radius, linewidth=2, edgecolor='black', facecolor='none')\n",
    "ax.add_patch(circle)\n",
    "\n",
    "plt.xlim(x_min, x_max)\n",
    "plt.ylim(x_min, x_max)\n",
    "plt.gca().set_aspect('equal', adjustable='box')\n",
    "plt.show()\n"
   ]
  }
 ],
 "metadata": {
  "kernelspec": {
   "display_name": "Python 3",
   "language": "python",
   "name": "python3"
  },
  "language_info": {
   "codemirror_mode": {
    "name": "ipython",
    "version": 3
   },
   "file_extension": ".py",
   "mimetype": "text/x-python",
   "name": "python",
   "nbconvert_exporter": "python",
   "pygments_lexer": "ipython3",
   "version": "3.12.4"
  }
 },
 "nbformat": 4,
 "nbformat_minor": 2
}
